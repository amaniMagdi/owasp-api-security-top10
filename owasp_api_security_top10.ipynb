{
 "cells": [
  {
   "cell_type": "markdown",
   "metadata": {},
   "source": [
    "### Open Web Application Security Project (OWASP)\n",
    "\n",
    "**OWASP API Top 10**\n",
    "\n",
    " 1. Broken object level authorization\n",
    " 2. Broken user authentication\n",
    " 3. Excessive data exposure\n",
    " 4. Lack of resources and rate limiting\n",
    " 5. Broken function level authorization\n",
    " 6. Mass assignment\n",
    " 7. Security misconfiguration\n",
    " 8. Injection\n",
    " 9. Improper assets management\n",
    " 10. Insufficient logging and monitoring\n",
    " \n",
    "\n",
    "### 1. Broken object level authorization (BOLA)\n",
    "\n",
    " Also known as insecure direct object references (IDORs) Access control vulnerabilities Occur when user-supplied input allows abnormal access\n",
    " \n",
    " **Protecting against BOLA Attacks**\n",
    "\n",
    "-   Add authorization checks with user policies and hierarchy\n",
    "-   Avoid including user IDs in API requests\n",
    "-   Practice using session IDs or tokens\n",
    "-   Use random, unguessable IDs, unique universal identifiers (UUIDs)\n",
    "-  Regularly check authorization for clients requesting access\n",
    "-   Implement a zero-trust model\n",
    "-   Regularly test!"
   ]
  },
  {
   "cell_type": "markdown",
   "metadata": {},
   "source": []
  }
 ],
 "metadata": {
  "language_info": {
   "name": "python"
  }
 },
 "nbformat": 4,
 "nbformat_minor": 2
}
