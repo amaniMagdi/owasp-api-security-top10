{
 "cells": [
  {
   "cell_type": "markdown",
   "metadata": {},
   "source": [
    "#### Open Web Application Security Project (OWASP)\n",
    "\n",
    "**OWASP API Top 10**\n",
    "\n",
    " 1. Broken object level authorization\n",
    " 2. Broken user authentication\n",
    " 3. Excessive data exposure\n",
    " 4. Lack of resources and rate limiting\n",
    " 5. Broken function level authorization\n",
    " 6. Mass assignment\n",
    " 7. Security misconfiguration\n",
    " 8. Injection\n",
    " 9. Improper assets management\n",
    " 10. Insufficient logging and monitoring"
   ]
  },
  {
   "cell_type": "markdown",
   "metadata": {},
   "source": []
  }
 ],
 "metadata": {
  "language_info": {
   "name": "python"
  }
 },
 "nbformat": 4,
 "nbformat_minor": 2
}
