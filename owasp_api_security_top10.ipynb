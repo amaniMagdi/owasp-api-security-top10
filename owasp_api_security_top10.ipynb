{
 "cells": [
  {
   "cell_type": "markdown",
   "metadata": {},
   "source": [
    "### Open Web Application Security Project (OWASP)\n",
    "\n",
    "**OWASP API Top 10**\n",
    "\n",
    " 1. Broken object level authorization\n",
    " 2. Broken user authentication\n",
    " 3. Excessive data exposure\n",
    " 4. Lack of resources and rate limiting\n",
    " 5. Broken function level authorization\n",
    " 6. Mass assignment\n",
    " 7. Security misconfiguration\n",
    " 8. Injection\n",
    " 9. Improper assets management\n",
    " 10. Insufficient logging and monitoring\n",
    " \n",
    "\n",
    "### 1. Broken object level authorization (BOLA)\n",
    "\n",
    "> \"APIs tend to expose endpoints that handle object identifiers,\n",
    "> creating a wide attack surface Level Access Control issue.\n",
    "> Object-level authorization checks should be considered in every\n",
    "> function that accesses a data source using an input from the user.\"  by OWASP\n",
    "\n",
    " Also known as insecure direct object references (IDORs)\n",
    " <br>Access control vulnerabilities \n",
    " <br>Occur when user-supplied input allows abnormal access\n",
    " \n",
    " **Protecting against BOLA Attacks**\n",
    "\n",
    "-   Add authorization checks with user policies and hierarchy\n",
    "-   Avoid including user IDs in API requests\n",
    "-   Practice using session IDs or tokens\n",
    "-   Use random, unguessable IDs, unique universal identifiers (UUIDs)\n",
    "-  Regularly check authorization for clients requesting access\n",
    "-   Implement a zero-trust model\n",
    "-   Regularly test!"
   ]
  },
  {
   "cell_type": "markdown",
   "metadata": {},
   "source": [
    "### 2. Broken user authentication\n",
    "\n",
    "> \"Authentication mechanisms are often implemented incorrectly, allowing\n",
    "> attackers to compromise authentication tokens or to exploit\n",
    "> implementation flaws to assume other users' identities temporarily or\n",
    "> permanently. Compromising a system's ability to identify the\n",
    "> client/user compromises API security overall.\"  --OWASP\n",
    "\n",
    "**Causes of Broken User Authentication**\n",
    "-   Displaying sensitive details\n",
    "-   Permitting weak passwords\n",
    "-   Misconfiguring tokens\n",
    "\n",
    "**How the App Was Hacked**\n",
    "-   Password reset improperly implemented\n",
    "-   No limit on incorrect attempts\n",
    "-   Too few digits in one-time passcode\n",
    "-   No account lockout policy\n",
    "\n",
    "**Protecting against Broken User Authentication**\n",
    "-   Secure methods to authenticate to APIs\n",
    "-   Multifactor authentication and captchas\n",
    "-   Temporary access tokens"
   ]
  },
  {
   "cell_type": "markdown",
   "metadata": {},
   "source": [
    "### 3. Excessive data exposure\n",
    "\n",
    "> \"Looking forward to generic implementations, developers tend to expose\n",
    "> all object properties without considering their individual\n",
    "> sensitivity, relying on clients to perform the data filtering before\n",
    "> displaying it to the user.\"  --OWASP\n",
    "\n",
    "**Preventing Excessive Data Exposure**\n",
    "-   Filter data of all API responses\n",
    "-   Limit sensitive data or PII (Personally Identifiable Information) exposure\n",
    "-   Enforce response checks to prevent leaks\n",
    "-   Perform checks for sensitive information"
   ]
  },
  {
   "cell_type": "markdown",
   "metadata": {},
   "source": []
  }
 ],
 "metadata": {
  "language_info": {
   "name": "python"
  }
 },
 "nbformat": 4,
 "nbformat_minor": 2
}
